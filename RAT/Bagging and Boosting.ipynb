{
 "cells": [
  {
   "cell_type": "code",
   "execution_count": null,
   "metadata": {},
   "outputs": [],
   "source": [
    "########################################################\n",
    "############# Bagging Boosting and Stacking ############\n",
    "########################################################\n",
    "\n",
    "# What did I learn?\n",
    "\n",
    "# Random Forest: Chances of making correct predictions increase with the number of uncorrelated trees!\n",
    "# To find correlation between trees there are 2 methods: Bagging and Boosting\n",
    "#----------------------------------------------------------------------------------------------------------------\n",
    "# BAGGING:\n",
    "# - Bagging allows to take randomly choosen samples from the dataset with replacement. \n",
    "#   Replacement takes place with a random sample! not subset.\n",
    "\n",
    "# - Bagging stands for bootstrap aggregation. One way to reduce the variance of an estimate is to \n",
    "#   average together multiple estimates. It is an equal weight average for the prediction! \n",
    "# But if you want to evaluate each model, you can do an weighted average, e.g. good prediction simulation get a \n",
    "# higher weight\n",
    "\n",
    "# - Bagging uses voting for classification and averaging for regression.\n",
    "#----------------------------------------------------------------------------------------------------------------\n",
    "\n",
    "# BOOSTING\n",
    "\n",
    "# Boosting refers to a family of algorithms that are able to convert weak learners ( e.g. KNN) to strong learners. \n",
    "# The main principle of boosting is to fit a sequence of weak learners− models that are only slightly \n",
    "# better than random guessing, such as small decision trees− to weighted versions of the data. \n",
    "#----------------------------------------------------------------------------------------------------------------\n",
    "\n",
    "# The principal difference between boosting and bagging, is that base learners are trained in sequence \n",
    "# on a weighted version of the data.\n",
    "#----------------------------------------------------------------------------------------------------------------\n",
    "\n",
    "# STACKING\n",
    "\n",
    "# Stacking is an ensemble learning technique that combines multiple classification or regression models via \n",
    "# a meta-classifier or a meta-regressor. The base level models are trained based on a complete training set,  \n",
    "# then the meta-model is trained on the outputs of the base level model as features.\n",
    "# Ensemble methods have been very successful in setting record performance on challenging datasets!!!"
   ]
  }
 ],
 "metadata": {
  "kernelspec": {
   "display_name": "Python [conda env:nf] *",
   "language": "python",
   "name": "conda-env-nf-py"
  },
  "language_info": {
   "codemirror_mode": {
    "name": "ipython",
    "version": 3
   },
   "file_extension": ".py",
   "mimetype": "text/x-python",
   "name": "python",
   "nbconvert_exporter": "python",
   "pygments_lexer": "ipython3",
   "version": "3.6.6"
  }
 },
 "nbformat": 4,
 "nbformat_minor": 2
}
