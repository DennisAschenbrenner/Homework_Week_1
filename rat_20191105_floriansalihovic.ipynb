{
 "cells": [
  {
   "cell_type": "markdown",
   "metadata": {},
   "source": [
    "# Bias - Variance Tradeoff"
   ]
  },
  {
   "cell_type": "markdown",
   "metadata": {},
   "source": [
    "## Introduction"
   ]
  },
  {
   "cell_type": "markdown",
   "metadata": {},
   "source": [
    "When working with data, data people have can only work with a subset of all the data potentially available to create a model. When understanding how the dataset is composed of features (a table's columns) and observations (a table's rows) and the resulting values and their semantics."
   ]
  },
  {
   "cell_type": "markdown",
   "metadata": {},
   "source": [
    "When gaining the first insights about the data via plotting and other explorative methods, first assumptions can be made regarding the model, which will be used for predicting values for the identified target variable."
   ]
  },
  {
   "cell_type": "markdown",
   "metadata": {},
   "source": [
    "As the data is just a sample of all the data which could be processed by the model, there is always a level of uncertainty regarding the model's correctness and how it will process new, unknown data."
   ]
  },
  {
   "cell_type": "markdown",
   "metadata": {},
   "source": [
    "When implementing a linear regression model, there initial assumption is the following:\n",
    "\n",
    "> the relationship between the dependent variable and predictors is linear"
   ]
  },
  {
   "cell_type": "markdown",
   "metadata": {},
   "source": [
    "This assumption can have drastical implications. When the sample dataset only contained values which appeared to be linearly related, but new data is way off from the line of best fit, the model is basically too simple."
   ]
  },
  {
   "cell_type": "markdown",
   "metadata": {},
   "source": [
    "## Examples"
   ]
  },
  {
   "cell_type": "markdown",
   "metadata": {},
   "source": [
    "### Self driving cars"
   ]
  },
  {
   "cell_type": "markdown",
   "metadata": {},
   "source": [
    "Self driving cars are a good examples as different cars as external factors challenge the model in various aspects:\n",
    "\n",
    "- the vehicle's speed\n",
    "- the underground the vehicle is operated on\n",
    "- the vehicles environment\n",
    "- the side of the streets it is operated on"
   ]
  },
  {
   "cell_type": "markdown",
   "metadata": {},
   "source": [
    "#### Example Scenario: Death Valley"
   ]
  },
  {
   "cell_type": "markdown",
   "metadata": {},
   "source": [
    "Death valley is not only one of the driest places, it also provides a very plain ground and very few obstacles making it an ideal place for letting self driving cars driving themselves, as there are very few chances to hit anyone or anything."
   ]
  },
  {
   "cell_type": "markdown",
   "metadata": {},
   "source": [
    "##### Implications For The Model"
   ]
  },
  {
   "cell_type": "markdown",
   "metadata": {},
   "source": [
    "A model trained in death value will most likely be not work properly in traffic, as streets and predestrians are not present in Death Valley. Cities like San Fransico for example introduce the third dimension and the UK drive car on the left side of the streets."
   ]
  },
  {
   "cell_type": "markdown",
   "metadata": {},
   "source": [
    "## Definitions"
   ]
  },
  {
   "cell_type": "markdown",
   "metadata": {},
   "source": [
    "### Bias"
   ]
  },
  {
   "cell_type": "markdown",
   "metadata": {},
   "source": [
    "Bias can be understood as the assumption that all data is similar to the training data which leads to a simpler model."
   ]
  },
  {
   "cell_type": "markdown",
   "metadata": {},
   "source": [
    "### Variance"
   ]
  },
  {
   "cell_type": "markdown",
   "metadata": {},
   "source": [
    "Variance can be understood as the spectrum of possible prediction when validating the model."
   ]
  },
  {
   "cell_type": "markdown",
   "metadata": {},
   "source": [
    "## Sources\n",
    "- https://towardsdatascience.com/mse-and-bias-variance-decomposition-77449dd2ff55\n",
    "- https://stats.stackexchange.com/questions/204115/understanding-bias-variance-tradeoff-derivation\n",
    "- https://www.quantstart.com/articles/The-Bias-Variance-Tradeoff-in-Statistical-Machine-Learning-The-Regression-Setting"
   ]
  }
 ],
 "metadata": {
  "kernelspec": {
   "display_name": "Python [conda env:nf] *",
   "language": "python",
   "name": "conda-env-nf-py"
  },
  "language_info": {
   "codemirror_mode": {
    "name": "ipython",
    "version": 3
   },
   "file_extension": ".py",
   "mimetype": "text/x-python",
   "name": "python",
   "nbconvert_exporter": "python",
   "pygments_lexer": "ipython3",
   "version": "3.6.6"
  }
 },
 "nbformat": 4,
 "nbformat_minor": 2
}
