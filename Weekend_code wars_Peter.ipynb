{
 "cells": [
  {
   "cell_type": "markdown",
   "metadata": {},
   "source": [
    "5 kyu:\n",
    "Last digit of a large number\n",
    "Python:"
   ]
  },
  {
   "cell_type": "code",
   "execution_count": 1,
   "metadata": {},
   "outputs": [],
   "source": [
    "con1 = [1]\n",
    "con2 = [2, 4, 8, 6]\n",
    "con3 = [3, 9, 7, 1]\n",
    "con4 = [4, 6]\n",
    "con5 = [5]\n",
    "con6 = [6]\n",
    "con7 = [7, 9, 3, 1]\n",
    "con8 = [8, 4, 2, 6]\n",
    "con9 = [9, 1]\n",
    "cl4 = {2, 3, 7, 8}\n",
    "cl2 = {4, 9}\n",
    "cl1 = {1, 5, 6}\n",
    "keyl = {1: con1, 2: con2, 3: con3, 4: con4, 5: con5, 6: con6, 7: con7, 8: con8, 9: con9}\n",
    "\n",
    "def last_digit(n1, n2):\n",
    "    s1 = str(n1)\n",
    "    s2 = str(n2)\n",
    "    ld = int(s1[-1])\n",
    "    #print(n1, n2, ld)\n",
    "    # check if power to 0 or last digit 1 in that case return 1\n",
    "    if s2 == str(0) or ld == 1:\n",
    "        return 1\n",
    "    # check if digit 0 and power nonzero return 0\n",
    "    if ld == 0 and s2 != str(0):\n",
    "        return 0\n",
    "    # check if digit belongs to class with 4 possible last_digits\n",
    "    if {ld}.issubset(cl4):\n",
    "        # require last two digits of n2 e.g. 8, 18 give different output\n",
    "        p = s2[-2]\n",
    "        c = s2[-1]\n",
    "        x = int(p + c) % 4 - 1\n",
    "        return keyl[ld][x]\n",
    "    # check if digit belongs to class with 2 possible last_digits\n",
    "    elif {ld}.issubset(cl2):\n",
    "        c = s2[-1]\n",
    "        x = int(c) % 2 - 1\n",
    "        return keyl[ld][x]     \n",
    "    # check if digit belongs to class with 1 possible last_digits\n",
    "    elif {ld}.issubset(cl1):\n",
    "        return keyl[ld][0] \n",
    "    else:\n",
    "        return 0\n",
    "    "
   ]
  },
  {
   "cell_type": "markdown",
   "metadata": {},
   "source": [
    "4 kyu: 4 By 4 Skyscrapers"
   ]
  },
  {
   "cell_type": "code",
   "execution_count": 3,
   "metadata": {},
   "outputs": [],
   "source": [
    "facn = 24 # 4!\n",
    "bset = {1, 2, 3, 4}\n",
    "dim = 4\n",
    "# calculates all permuations of bset\n",
    "def genvecl():\n",
    "    veccon = list()\n",
    "    # iteration over every element in bset\n",
    "    for x in bset:\n",
    "        for y in bset:\n",
    "            for z in bset:\n",
    "                for n in bset:\n",
    "                    cl = [x, y, z, n]\n",
    "                    # check for uniquness\n",
    "                    if len(cl) == len(set(cl)):\n",
    "                        veccon.append(cl)\n",
    "    return veccon\n",
    "\n",
    "# calculates all matrices with element unique rows and columns\n",
    "def genmat():\n",
    "    matcon = list()\n",
    "    # list of element unique rows\n",
    "    veccon = genvecl()\n",
    "    for x in veccon:\n",
    "        for y in veccon:\n",
    "            for z in veccon:\n",
    "                for n in veccon:\n",
    "                    matt = [x, y, z, n]\n",
    "                    # different columns\n",
    "                    s0 = [x[0], y[0], z[0], n[0]]\n",
    "                    s1 = [x[1], y[1], z[1], n[1]]\n",
    "                    s2 = [x[2], y[2], z[2], n[2]]\n",
    "                    s3 = [x[3], y[3], z[3], n[3]]\n",
    "                    # checks uniqueness of every column\n",
    "                    if len(s0) == len(set(s0)) and len(s1) == len(set(s1)) and \\\n",
    "                    len(s2) == len(set(s2)) and len(s3) == len(set(s3)):\n",
    "                        matcon.append(matt)\n",
    "    return matcon\n",
    "\n",
    "    \n",
    "def solve_puzzle (clues):\n",
    "    #veccon = genvecl()\n",
    "    # calculates list of matrices\n",
    "    matcon = genmat()\n",
    "    #print(len(matcon), len(veccon))\n",
    "    cluesr = list()\n",
    "    # takes only non-vanishing clues into account\n",
    "    for idx, x in enumerate(clues):\n",
    "        if x > 0:\n",
    "            cluesr.append([idx, x])\n",
    "    matout = list()\n",
    "    # iterate over matrices\n",
    "    for z in matcon:\n",
    "        boolt = False\n",
    "        # check clues\n",
    "        for x in cluesr:\n",
    "            # construct relevant row or column\n",
    "            tl = list()\n",
    "            if x[0] < dim:\n",
    "                tl = [z[n][x[0]] for n in range(dim)]\n",
    "            elif x[0] < 2 * dim:\n",
    "                tl = [z[x[0] % dim][n] for n in range(dim)]\n",
    "                tl = list(reversed(tl))\n",
    "            elif x[0] < 3 * dim:\n",
    "                tl = [z[n][dim - 1 - x[0] % dim] for n in range(dim)]\n",
    "                tl = list(reversed(tl))\n",
    "            elif x[0] < 4 * dim:\n",
    "                tl = [z[dim - 1 - x[0] % dim][n] for n in range(dim)]\n",
    "                #print('wtf', x[0], x[1], len(tl))\n",
    "            # check if row or column passes the test\n",
    "            if x[1] == 1:\n",
    "                if tl[0] == dim:\n",
    "                    boolt = True\n",
    "                else:\n",
    "                    boolt = False\n",
    "                    break\n",
    "            elif x[1] == 2:\n",
    "                if (tl[0] < tl[1] and tl[2] < tl[1] and tl[3] != dim) or \\\n",
    "                (tl[2] > tl[0] > tl[1] and tl[3] != dim) or \\\n",
    "                (tl[0] > tl[1] and tl[2] < tl[0] and tl[3] == dim):\n",
    "                    boolt = True\n",
    "                else:\n",
    "                    boolt = False\n",
    "                    break              \n",
    "            elif x[1] == 3:\n",
    "                if (tl[0] < tl[1] < tl[2] and tl[3] < tl[2]) or \\\n",
    "                (tl[0] > tl[1] and tl[3] > tl[2] > tl[0] ) or \\\n",
    "                (tl[1] > tl[2] and tl[3] > tl[1] > tl[0] ):\n",
    "                    boolt = True\n",
    "                else:\n",
    "                    boolt = False\n",
    "                    break                    \n",
    "            elif x[1] == 4:\n",
    "                if tl[0] < tl[1] < tl[2] < tl[3]:\n",
    "                    boolt = True\n",
    "                else:\n",
    "                    boolt = False\n",
    "                    break\n",
    "        # if test passes return, leave loop and return matout\n",
    "        if boolt == True:\n",
    "            #matout = z\n",
    "            t0 = tuple(z[0])\n",
    "            t1 = tuple(z[1])\n",
    "            t2 = tuple(z[2])\n",
    "            t3 = tuple(z[3])\n",
    "            matout = (t0, t1, t2, t3)\n",
    "            break\n",
    "    return matout\n",
    " "
   ]
  },
  {
   "cell_type": "markdown",
   "metadata": {},
   "source": [
    "5 kyu:\n",
    "Integers: Recreation One"
   ]
  },
  {
   "cell_type": "code",
   "execution_count": 4,
   "metadata": {},
   "outputs": [],
   "source": [
    "import numpy as np\n",
    "def list_squared(m, n):\n",
    "    print(m, n)\n",
    "    sqlist = list()\n",
    "    for x in range(m, n):\n",
    "        if x == 1:\n",
    "            sqlist.append([x, x])\n",
    "            continue\n",
    "        sum = 0\n",
    "        #for y in range(1, x // 2 + 1):\n",
    "        #    if x // y == x / y:\n",
    "        #        sum += y * y\n",
    "        #sum += x * x\n",
    "        rootl = list()\n",
    "        for y in range(1, int(np.sqrt(x)) + 1):\n",
    "            if x // y == x / y:\n",
    "                rootl.append(y);\n",
    "        for y in rootl:\n",
    "            if x / y != y:\n",
    "                sum += y * y + (x / y) ** 2\n",
    "            else:\n",
    "                sum += y * y\n",
    "        sumr = np.sqrt(sum)\n",
    "        if sumr == int(sumr):\n",
    "            sqlist.append([x, int(sum)])\n",
    "    return sqlist\n",
    "    # your code"
   ]
  },
  {
   "cell_type": "markdown",
   "metadata": {},
   "source": [
    "4 kyu: \n",
    "Sum of Intervals"
   ]
  },
  {
   "cell_type": "code",
   "execution_count": 5,
   "metadata": {},
   "outputs": [],
   "source": [
    "def sum_of_intervals(intervals):\n",
    "    listtot = list()\n",
    "    for x in intervals:\n",
    "        listtot += list(range(x[0],x[1]))\n",
    "    setlist = set(listtot)\n",
    "    counter = 0\n",
    "    for x in setlist:\n",
    "        counter += 1\n",
    "    return counter"
   ]
  },
  {
   "cell_type": "markdown",
   "metadata": {},
   "source": [
    "4 kyu:\n",
    "Matrix Determinant"
   ]
  },
  {
   "cell_type": "code",
   "execution_count": 7,
   "metadata": {},
   "outputs": [],
   "source": [
    "def determinant(matrix):\n",
    "    dimi = len(matrix)\n",
    "    if dimi == 2:\n",
    "        return matrix[0][0] * matrix[1][1] - matrix[1][0] * matrix[0][1]\n",
    "    elif dimi == 1:\n",
    "        return matrix[0][0]\n",
    "    det = 0\n",
    "    for x in range(dimi):\n",
    "        submatrix = list(list(0 for y in range(dimi - 1)) for z in range(dimi - 1))\n",
    "        for y in range(dimi):\n",
    "            for z in range(1, dimi):\n",
    "                if y < x:\n",
    "                    submatrix[y][z - 1] = matrix[y][z]\n",
    "                    #print(submatrix[y][z - 1], y, z)\n",
    "                elif y > x:\n",
    "                    submatrix[y - 1][z - 1] = matrix[y][z]\n",
    "                    #print(submatrix[y - 1][z - 1], y, z)\n",
    "                \n",
    "        det += (-1) ** x * matrix[x][0] * determinant(submatrix)\n",
    "        #print(x, determinant(submatrix), submatrix[0][0], submatrix[0][1], submatrix[1][0], submatrix[1][1], )\n",
    "    print(det)\n",
    "    return det\n",
    "    #your code here"
   ]
  },
  {
   "cell_type": "markdown",
   "metadata": {},
   "source": [
    "5 kyu:\n",
    "My smallest code interpreter (aka Brainf**k)\n"
   ]
  },
  {
   "cell_type": "code",
   "execution_count": 9,
   "metadata": {},
   "outputs": [],
   "source": [
    "def brain_luck(code, input):\n",
    "    # container with 0s\n",
    "  strlist = list(0 for x in range(len(input) + len(code)))\n",
    "  #print(code)\n",
    "  #code as list\n",
    "  code = list(x for x in code)\n",
    "  # output text\n",
    "  output = ''\n",
    "  # index variables\n",
    "  dataptr = 0\n",
    "  codeptr = 0\n",
    "  instptr = 0\n",
    "  inputptr = 0\n",
    "  # len of code\n",
    "  lenc = len(code)\n",
    "  # reversed code\n",
    "  revcode = list(reversed(code))\n",
    "  # while loop over code elements\n",
    "  while instptr < lenc and instptr > -1:\n",
    "      #strlist.append(0)\n",
    "      #print(output, dataptr, instptr, chr(strlist[dataptr]), strlist[dataptr], code[instptr])\n",
    "      # > operator\n",
    "      if code[instptr] == '>':\n",
    "          dataptr += 1\n",
    "          instptr += 1\n",
    "      # < operator\n",
    "      elif code[instptr] == '<':\n",
    "          dataptr -= 1\n",
    "          instptr += 1\n",
    "      # + operator\n",
    "      elif code[instptr] == '+':\n",
    "          strlist[dataptr] += 1\n",
    "          # cyclic\n",
    "          if strlist[dataptr] > 255:\n",
    "              strlist[dataptr] = 0\n",
    "          instptr += 1\n",
    "      # - operator\n",
    "      elif code[instptr] == '-':\n",
    "          strlist[dataptr] -= 1\n",
    "          # cyclic\n",
    "          if strlist[dataptr] < 0:\n",
    "              strlist[dataptr] = 255\n",
    "          instptr += 1\n",
    "      # . operator, write output\n",
    "      elif code[instptr] == '.':\n",
    "          output += chr(strlist[dataptr])\n",
    "          instptr += 1\n",
    "      # , operator, read input\n",
    "      elif code[instptr] == ',':\n",
    "          strlist.insert(dataptr, ord(str(input[inputptr])))\n",
    "          # inputptr to not double read element\n",
    "          inputptr += 1\n",
    "          instptr +=1\n",
    "      # '[' operator, proceed to next element or towards one after matching ']'\n",
    "      elif code[instptr] == '[':\n",
    "          if strlist[dataptr] == 0:\n",
    "              # iterate until closing match found\n",
    "              cptr = code.index(']',instptr, lenc)\n",
    "              ob = code[instptr + 1 : cptr].count('[')\n",
    "              while ob > 0:\n",
    "                  pptr = cptr + 1\n",
    "                  cptr = code.index(']', pptr, lenc)\n",
    "                  ob += code[pptr : cptr].count('[') - 1\n",
    "              instptr = cptr + 1\n",
    "          else:\n",
    "              instptr += 1\n",
    "      # ']' operator\n",
    "      elif code[instptr] == ']':\n",
    "          if strlist[dataptr] != 0:\n",
    "              # as before but with reversed order\n",
    "              rinstptr = lenc - 1 - instptr\n",
    "              cptr = revcode.index('[', rinstptr, lenc)\n",
    "              ob = revcode[rinstptr + 1 : cptr].count(']')\n",
    "              while ob > 0:\n",
    "                  pptr = cptr + 1\n",
    "                  cptr = revcode.index('[', pptr, lenc)\n",
    "                  ob += revcode[pptr : cptr].count(']') - 1\n",
    "              instptr = lenc - cptr\n",
    "          else:\n",
    "              instptr += 1\n",
    "      else:\n",
    "          pass\n",
    "  output.strip()\n",
    "  print(output)\n",
    "  # return output\n",
    "  return output"
   ]
  },
  {
   "cell_type": "markdown",
   "metadata": {},
   "source": [
    "6 kyu:\n",
    "Counting Duplicates\n"
   ]
  },
  {
   "cell_type": "code",
   "execution_count": 11,
   "metadata": {},
   "outputs": [],
   "source": [
    "def duplicate_count(text):\n",
    "    text = text.lower()\n",
    "    tese = {x for x in text}\n",
    "    teli = [x for x in text]\n",
    "    teke = {x: 0 for x in tese}\n",
    "    for x in text:\n",
    "        if {x}.issubset(tese):\n",
    "            teke[x] += 1\n",
    "    count = 0\n",
    "    for x in teke.keys():\n",
    "        if teke[x] > 1:\n",
    "            count += 1\n",
    "    return count"
   ]
  },
  {
   "cell_type": "markdown",
   "metadata": {},
   "source": [
    "6 kyu:\n",
    "Array.diff"
   ]
  },
  {
   "cell_type": "code",
   "execution_count": 12,
   "metadata": {},
   "outputs": [],
   "source": [
    "def array_diff(a, b):\n",
    "    seta = set(a)\n",
    "    setb = set(b)\n",
    "    setj = seta.intersection(setb)\n",
    "    idxl = list()\n",
    "    for idx, x in enumerate(a):\n",
    "        if {x}.issubset(setj):\n",
    "            idxl.append(idx)\n",
    "    idxl.reverse()\n",
    "    if idxl == None:\n",
    "        return a\n",
    "    for x in idxl:\n",
    "        del a[x]\n",
    "    for x in a:\n",
    "        print(x)\n",
    "    return a"
   ]
  },
  {
   "cell_type": "markdown",
   "metadata": {},
   "source": [
    "5 kyu:\n",
    "Directions Reduction"
   ]
  },
  {
   "cell_type": "code",
   "execution_count": 13,
   "metadata": {},
   "outputs": [],
   "source": [
    "def dirReduc(arr):\n",
    "    #dicp('West': 'East', 'East': 'West', 'North': 'South', 'South': 'North')\n",
    "    stringarr = ''\n",
    "    for x in arr:\n",
    "        stringarr += x + ' '\n",
    "    #stringarr.strip()\n",
    "    while stringarr.find('WEST EAST ') > -1 or \\\n",
    "    stringarr.find('EAST WEST ') > -1 or \\\n",
    "    stringarr.find('NORTH SOUTH ') > -1 or \\\n",
    "    stringarr.find('SOUTH NORTH ') > -1:\n",
    "        stringarr = stringarr.replace('NORTH SOUTH ', '')\n",
    "        stringarr = stringarr.replace('SOUTH NORTH ', '')\n",
    "        stringarr = stringarr.replace('WEST EAST ', '')\n",
    "        stringarr = stringarr.replace('EAST WEST ', '')\n",
    "    return stringarr.split()\n",
    "   # ... your code"
   ]
  },
  {
   "cell_type": "markdown",
   "metadata": {},
   "source": [
    "6 kyu:\n",
    "Does my number look big in this?"
   ]
  },
  {
   "cell_type": "code",
   "execution_count": 14,
   "metadata": {},
   "outputs": [],
   "source": [
    "def narcissistic( value ):\n",
    "    a = str(value)\n",
    "    p = len(a)\n",
    "    sum = 0\n",
    "    for x in a:\n",
    "        sum += int(x) ** p\n",
    "    if sum == value:\n",
    "        return True\n",
    "    else:\n",
    "        return False\n",
    "    # Code away"
   ]
  },
  {
   "cell_type": "markdown",
   "metadata": {},
   "source": [
    "5 kyu:\n",
    "Moving Zeros To The End"
   ]
  },
  {
   "cell_type": "code",
   "execution_count": 16,
   "metadata": {},
   "outputs": [],
   "source": [
    "def move_zeros(array):\n",
    "    count = 0\n",
    "    dellist = list()\n",
    "    for idx, x in enumerate(array):\n",
    "        if type(x) == int or type(x) == float:\n",
    "            if int(x) == 0:\n",
    "                dellist.append(idx)\n",
    "                count += 1\n",
    "    dellist.reverse()\n",
    "    for x in dellist:\n",
    "        del array[x]\n",
    "    for x in range(count):\n",
    "        array.append(0)\n",
    "    return array"
   ]
  },
  {
   "cell_type": "markdown",
   "metadata": {},
   "source": [
    "6 kyu:\n",
    "Take a Number And Sum Its Digits Raised To The Consecutive Powers And ....¡Eureka!!"
   ]
  },
  {
   "cell_type": "code",
   "execution_count": 17,
   "metadata": {},
   "outputs": [],
   "source": [
    "def sum_dig_pow(a, b): # range(a, b + 1) will be studied by the function\n",
    "    # your code here\n",
    "    lista = list()\n",
    "    for x in range(a, b + 1):\n",
    "        string = str(x)\n",
    "        sum = 0\n",
    "        c = 1\n",
    "        for y in string:\n",
    "            sum += int(y) ** c\n",
    "            c +=1\n",
    "        if x == sum:\n",
    "            lista.append(x) \n",
    "    return lista"
   ]
  },
  {
   "cell_type": "markdown",
   "metadata": {},
   "source": [
    "6 kyu:\n",
    "Valid Braces"
   ]
  },
  {
   "cell_type": "code",
   "execution_count": 18,
   "metadata": {},
   "outputs": [],
   "source": [
    "def validBraces(string):\n",
    "    oset = ['(', '[', '{']\n",
    "    cset = [')',']','}']\n",
    "    cdict = dict(zip(cset,oset))\n",
    "    oset = set(oset)\n",
    "    cset = set(cset)\n",
    "    olist = []\n",
    "    # check if string is None or is not in oset; return False\n",
    "    if (not set(string[0]).issubset(oset)) or string == None:\n",
    "        return False\n",
    "    for a in string:\n",
    "        # check if string is in oset\n",
    "        if set(a).issubset(oset):\n",
    "            olist.append(a)\n",
    "        # check if olist is not empty\n",
    "        elif olist != []:\n",
    "            # check if closing bracket a corresponds to last opened bracket\n",
    "            if cdict[a] == olist[-1]:\n",
    "                # bracket is closed and deleted in olist\n",
    "                del olist[-1]\n",
    "            else:\n",
    "                return False\n",
    "        else:\n",
    "            return False\n",
    "    # check if all brackets are close\n",
    "    if len(olist) > 0: \n",
    "        return False\n",
    "    else:\n",
    "        return True"
   ]
  },
  {
   "cell_type": "markdown",
   "metadata": {},
   "source": [
    "7 kyu:\n",
    "Find the next perfect square!"
   ]
  },
  {
   "cell_type": "code",
   "execution_count": 19,
   "metadata": {},
   "outputs": [],
   "source": [
    "import numpy as np\n",
    "def find_next_square(sq):\n",
    "    x = np.sqrt(float(sq))\n",
    "    # Return the next square if sq is a square, -1 otherwise\n",
    "    if x != float(int(x)):\n",
    "        return -1\n",
    "    while True:\n",
    "        sq += 1\n",
    "        x = np.sqrt(float(sq))\n",
    "        if x == float(int(x)):\n",
    "            return sq\n",
    "    "
   ]
  },
  {
   "cell_type": "markdown",
   "metadata": {},
   "source": [
    "7 kyu:\n",
    "Highest and Lowest"
   ]
  },
  {
   "cell_type": "code",
   "execution_count": 20,
   "metadata": {},
   "outputs": [],
   "source": [
    "def high_and_low(numbers):\n",
    "    l1 = numbers.split(' ')\n",
    "    l1 = [int(a) for a in l1]\n",
    "    l1.sort()\n",
    "    return str(l1[-1]) + \" \" + str(l1[0])"
   ]
  },
  {
   "cell_type": "markdown",
   "metadata": {},
   "source": [
    "6 kyu:\n",
    "Playing with digits"
   ]
  },
  {
   "cell_type": "code",
   "execution_count": 21,
   "metadata": {},
   "outputs": [],
   "source": [
    "def dig_pow(n, p):\n",
    "    # convert int n to string\n",
    "    a = str(n)\n",
    "    sum = 0\n",
    "    # loop over characters in string\n",
    "    for x in a:\n",
    "        # convert characters back and take power p and add to sum\n",
    "        sum += int(x) ** p\n",
    "        # raise the power p by 1\n",
    "        p += 1\n",
    "    # calculate the multiplicative factor k\n",
    "    k = float(sum)/n\n",
    "    # calculate integer multiplicative factor ki\n",
    "    ki = sum//n\n",
    "    # compare if both k and ki are effectively integers\n",
    "    if k == float(ki):\n",
    "        return int(k)\n",
    "    else: \n",
    "        return -1"
   ]
  },
  {
   "cell_type": "markdown",
   "metadata": {},
   "source": [
    "6 kyu:\n",
    "Sum of Digits / Digital Root"
   ]
  },
  {
   "cell_type": "code",
   "execution_count": 22,
   "metadata": {},
   "outputs": [],
   "source": [
    "def digital_root(n):\n",
    "    print(\"digital_root(\" + str(n) + \")\")\n",
    "    sum = n\n",
    "    while(len(str(n))>1):\n",
    "        a = str(n)\n",
    "        b = str(\"\")\n",
    "        sum = 0\n",
    "        if(a != None):\n",
    "            for x in a:\n",
    "                b += x + \" + \"\n",
    "                sum += int(x)\n",
    "        else:\n",
    "            print(\"Give a number!\")\n",
    "        #print(a)\n",
    "        print(\"=> \" + b[:len(b)-3])\n",
    "        print(\"=> \" + str(sum))\n",
    "        n = sum\n",
    "    return sum   "
   ]
  },
  {
   "cell_type": "markdown",
   "metadata": {},
   "source": [
    "8 kyu:\n",
    "Multiply"
   ]
  },
  {
   "cell_type": "code",
   "execution_count": null,
   "metadata": {},
   "outputs": [],
   "source": [
    "def multiply(a, b):\n",
    "  return a * b"
   ]
  }
 ],
 "metadata": {
  "kernelspec": {
   "display_name": "Python 3",
   "language": "python",
   "name": "python3"
  },
  "language_info": {
   "codemirror_mode": {
    "name": "ipython",
    "version": 3
   },
   "file_extension": ".py",
   "mimetype": "text/x-python",
   "name": "python",
   "nbconvert_exporter": "python",
   "pygments_lexer": "ipython3",
   "version": "3.7.3"
  }
 },
 "nbformat": 4,
 "nbformat_minor": 2
}
