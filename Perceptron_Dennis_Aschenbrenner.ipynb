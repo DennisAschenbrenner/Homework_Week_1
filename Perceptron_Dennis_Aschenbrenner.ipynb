{
 "cells": [
  {
   "cell_type": "code",
   "execution_count": null,
   "metadata": {},
   "outputs": [],
   "source": [
    "#### Perceptron ###\n",
    "\n",
    "# What is that??\n",
    "\n",
    "# Perceptor is similar to human neuron. It can be used in supervised and unsupervised learning. It gets \n",
    "# information from other neurons due to dendrids. The node is like a cell kernel (nucleus) where the information \n",
    "# get weights and pass to next layer, the hidden layer (perceptron has only 1 hidden layer). In the hidden layer \n",
    "# the weighted information will be added as sum and go forward to the activation function. Then the output will\n",
    "# be compared with the actual information. If there is a difference than it comes to back propagation with updating\n",
    "# weights. By updating weights the function tries to minimize the loss with a given learning rate and substraction\n",
    "# between actual and predicted value. If the learning rate is to large, you might miss the global minimum of the \n",
    "# loss function. If the learning rate is to small, the function might end at a local minima, without finding the \n",
    "# global minimum\n",
    "\n",
    "# What is the activation function?\n",
    "\n",
    "# The activation function is a sum of the input multiplied with weights and given bias. It can be a sigmoid, \n",
    "# heavyside, tanh or step function\n",
    "\n",
    "# What is the error function?\n",
    "\n",
    "# The error function is the loss function\n",
    "\n",
    "# You need a bias to activate the perceptron\n",
    "\n",
    "# You need weights to differ the input values (e.g. brightness of pixel)\n",
    "\n",
    "\n",
    "\n"
   ]
  }
 ],
 "metadata": {
  "kernelspec": {
   "display_name": "Python [conda env:nf] *",
   "language": "python",
   "name": "conda-env-nf-py"
  },
  "language_info": {
   "codemirror_mode": {
    "name": "ipython",
    "version": 3
   },
   "file_extension": ".py",
   "mimetype": "text/x-python",
   "name": "python",
   "nbconvert_exporter": "python",
   "pygments_lexer": "ipython3",
   "version": "3.6.6"
  }
 },
 "nbformat": 4,
 "nbformat_minor": 2
}
