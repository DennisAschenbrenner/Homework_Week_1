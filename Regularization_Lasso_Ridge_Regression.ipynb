{
 "cells": [
  {
   "cell_type": "code",
   "execution_count": 29,
   "metadata": {},
   "outputs": [],
   "source": [
    "# Ridge and Lasso regression are some of the simple techniques to reduce model complexity and prevent \n",
    "# over-fitting which may result from simple linear regression.\n",
    "\n",
    "import matplotlib.pyplot as plt      # import needed packages\n",
    "import numpy as np \n",
    "import pandas as pd\n",
    "import matplotlib\n",
    "from sklearn.datasets import load_boston\n",
    "from sklearn.model_selection import train_test_split\n",
    "from sklearn.linear_model import LinearRegression\n",
    "from sklearn.linear_model import Ridge\n",
    "from sklearn.linear_model import Lasso\n",
    "import seaborn as sns\n",
    "sns.set()"
   ]
  },
  {
   "cell_type": "code",
   "execution_count": 13,
   "metadata": {},
   "outputs": [
    {
     "name": "stdout",
     "output_type": "stream",
     "text": [
      "      CRIM    ZN  INDUS  CHAS    NOX     RM   AGE     DIS  RAD    TAX  \\\n",
      "0  0.00632  18.0   2.31   0.0  0.538  6.575  65.2  4.0900  1.0  296.0   \n",
      "1  0.02731   0.0   7.07   0.0  0.469  6.421  78.9  4.9671  2.0  242.0   \n",
      "2  0.02729   0.0   7.07   0.0  0.469  7.185  61.1  4.9671  2.0  242.0   \n",
      "\n",
      "   PTRATIO       B  LSTAT  Price  \n",
      "0     15.3  396.90   4.98   24.0  \n",
      "1     17.8  396.90   9.14   21.6  \n",
      "2     17.8  392.83   4.03   34.7  \n"
     ]
    }
   ],
   "source": [
    "boston=load_boston()     # load boston dataset\n",
    "boston_df=pd.DataFrame(boston.data,columns=boston.feature_names)\n",
    "#print(boston_df.info())\n",
    "# add another column that contains the house prices which in scikit learn datasets are considered as target\n",
    "boston_df['Price']=boston.target\n",
    "print(boston_df.head(3))\n",
    "X=boston_df.drop('Price',axis=1)    # independent variables (predictors)\n",
    "#print(newX[0:3]) # check \n",
    "Y=boston_df['Price']                # dependent variable (response)"
   ]
  },
  {
   "cell_type": "code",
   "execution_count": 14,
   "metadata": {},
   "outputs": [
    {
     "data": {
      "text/plain": [
       "(152, 13)"
      ]
     },
     "execution_count": 14,
     "metadata": {},
     "output_type": "execute_result"
    }
   ],
   "source": [
    "X_train,X_test,y_train,y_test = train_test_split(X,Y,test_size=0.3,random_state=10)  # split dataset \n",
    "\n",
    "X_test.shape"
   ]
  },
  {
   "cell_type": "code",
   "execution_count": 15,
   "metadata": {},
   "outputs": [
    {
     "data": {
      "text/plain": [
       "Ridge(alpha=100, copy_X=True, fit_intercept=True, max_iter=None,\n",
       "   normalize=False, random_state=None, solver='auto', tol=0.001)"
      ]
     },
     "execution_count": 15,
     "metadata": {},
     "output_type": "execute_result"
    }
   ],
   "source": [
    "linreg = LinearRegression()\n",
    "linreg.fit(X_train, y_train)\n",
    "ridgeR = Ridge(alpha=0.01)          # higher the alpha value, more restriction on the coefficients,\n",
    "                                    # lower alpha > more generalization, coefficients are barely restricted \n",
    "                                    # and in this case linear and ridge regression resembles\n",
    "ridgeR.fit(X_train, y_train)        # fit model on training data\n",
    "ridgeR100 = Ridge(alpha=100)        # comparison with alpha value\n",
    "ridgeR100.fit(X_train, y_train)"
   ]
  },
  {
   "cell_type": "code",
   "execution_count": 17,
   "metadata": {},
   "outputs": [
    {
     "name": "stdout",
     "output_type": "stream",
     "text": [
      "linear regression train score: 0.7495400632086622\n",
      "linear regression test score: 0.6996255772983115\n",
      "ridge regression train score low alpha: 0.7495392952061759\n",
      "ridge regression test score low alpha: 0.6995549781281721\n",
      "ridge regression train score high alpha: 0.7277579532247355\n",
      "ridge regression test score high alpha: 0.6519143463571024\n"
     ]
    }
   ],
   "source": [
    "train_score = linreg.score(X_train, y_train)\n",
    "test_score = linreg.score(X_test, y_test)\n",
    "Ridge_train_score = ridgeR.score(X_train,y_train)\n",
    "Ridge_test_score = ridgeR.score(X_test, y_test)\n",
    "Ridge_train_score100 = ridgeR100.score(X_train,y_train)\n",
    "Ridge_test_score100 = ridgeR100.score(X_test, y_test)\n",
    "\n",
    "print(\"linear regression train score:\", train_score)\n",
    "print(\"linear regression test score:\", test_score)\n",
    "print(\"ridge regression train score low alpha:\", Ridge_train_score)\n",
    "print(\"ridge regression test score low alpha:\", Ridge_test_score)\n",
    "print(\"ridge regression train score high alpha:\", Ridge_train_score100)\n",
    "print(\"ridge regression test score high alpha:\", Ridge_test_score100)"
   ]
  },
  {
   "cell_type": "code",
   "execution_count": 27,
   "metadata": {},
   "outputs": [
    {
     "data": {
      "image/png": "[encoded data removed]",
      "text/plain": [
       "<Figure size 720x432 with 1 Axes>"
      ]
     },
     "metadata": {},
     "output_type": "display_data"
    }
   ],
   "source": [
    "plt.figure(figsize=(10,6))\n",
    "plt.plot(ridgeR.coef_,alpha=0.7,linestyle='none',marker='*',markersize=5,color='red',label=r'Ridge; $\\alpha = 0.01$',zorder=7) # zorder for ordering the markers\n",
    "plt.plot(ridgeR100.coef_,alpha=0.5,linestyle='none',marker='d',markersize=6,color='blue',label=r'Ridge; $\\alpha = 100$') # alpha here is for transparency\n",
    "plt.plot(linreg.coef_,alpha=0.4,linestyle='none',marker='o',markersize=7,color='green',label='Linear Regression')\n",
    "plt.xlabel('Coefficient Index',fontsize=16)\n",
    "plt.ylabel('Coefficient Magnitude',fontsize=16)\n",
    "plt.legend(fontsize=13,loc=4)\n",
    "plt.show()\n"
   ]
  },
  {
   "cell_type": "code",
   "execution_count": null,
   "metadata": {},
   "outputs": [],
   "source": [
    "# NOW! LASSO REGRESSION on the same dataset"
   ]
  },
  {
   "cell_type": "code",
   "execution_count": 31,
   "metadata": {},
   "outputs": [
    {
     "name": "stdout",
     "output_type": "stream",
     "text": [
      "Lasso training score: 0.6894154177195142\n",
      "Lasso test score:  0.5997729850041567\n",
      "Lasso number of features used:  11\n"
     ]
    }
   ],
   "source": [
    "lasso = Lasso()\n",
    "lasso.fit(X_train,y_train)\n",
    "train_score = lasso.score(X_train,y_train)\n",
    "test_score = lasso.score(X_test,y_test)\n",
    "coeff_used = np.sum(lasso.coef_!=0)\n",
    "print(\"Lasso training score:\", train_score)\n",
    "print(\"Lasso test score: \", test_score)\n",
    "print(\"Lasso number of features used: \", coeff_used)\n"
   ]
  },
  {
   "cell_type": "code",
   "execution_count": 38,
   "metadata": {},
   "outputs": [],
   "source": [
    "train_score_i=[]\n",
    "test_score_i=[]\n",
    "coeff_used_i=[]\n",
    "\n",
    "for i in [1,0.1,0.01,0.001,0.0001]:\n",
    "    lasso_i = Lasso(alpha=i, max_iter=10e5) # lasso with alpha = 0.01\n",
    "    lasso_i.fit(X_train,y_train)\n",
    "    \n",
    "    train_score_i.append(lasso_i.score(X_train,y_train))\n",
    "    test_score_i.append(lasso_i.score(X_test,y_test))\n",
    "    coeff_used_i.append(np.sum(lasso_i.coef_!=0))\n"
   ]
  },
  {
   "cell_type": "code",
   "execution_count": 46,
   "metadata": {},
   "outputs": [
    {
     "name": "stdout",
     "output_type": "stream",
     "text": [
      "Lasso training score: [0.689 0.738 0.749 0.75  0.75 ]\n",
      "Lasso test score:  [0.6   0.674 0.697 0.699 0.7  ]\n",
      "Lasso number of features used:  [11, 11, 13, 13, 13]\n"
     ]
    }
   ],
   "source": [
    "print(\"Lasso training score:\", np.round(train_score_i,3))\n",
    "print(\"Lasso test score: \", np.round(test_score_i,3))\n",
    "print(\"Lasso number of features used: \", coeff_used_i)"
   ]
  }
 ],
 "metadata": {
  "kernelspec": {
   "display_name": "Python 3",
   "language": "python",
   "name": "python3"
  },
  "language_info": {
   "codemirror_mode": {
    "name": "ipython",
    "version": 3
   },
   "file_extension": ".py",
   "mimetype": "text/x-python",
   "name": "python",
   "nbconvert_exporter": "python",
   "pygments_lexer": "ipython3",
   "version": "3.6.6"
  }
 },
 "nbformat": 4,
 "nbformat_minor": 2
}
